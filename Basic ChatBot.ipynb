{
 "cells": [
  {
   "cell_type": "code",
   "execution_count": 1,
   "metadata": {},
   "outputs": [
    {
     "name": "stderr",
     "output_type": "stream",
     "text": [
      "[nltk_data] Downloading package punkt to\n",
      "[nltk_data]     C:\\Users\\ayush\\AppData\\Roaming\\nltk_data...\n",
      "[nltk_data]   Package punkt is already up-to-date!\n"
     ]
    },
    {
     "name": "stdout",
     "output_type": "stream",
     "text": [
      "Castle Swimmer Chatbot: Ask me anything about Castle Swimmer!\n",
      "Castle Swimmer Chatbot: I'm sorry, I don't know the answer to that. Try asking about Castle Swimmer, Kappa, or Siren!\n",
      "Castle Swimmer Chatbot: Goodbye!\n"
     ]
    }
   ],
   "source": [
    "#Importing necessary libraries\n",
    "import nltk\n",
    "from nltk.tokenize import word_tokenize\n",
    "\n",
    "#Download NLTK data (first-time use)\n",
    "nltk.download('punkt')\n",
    "\n",
    "#Define possible responses\n",
    "responses = {\n",
    "    \"what is castle swimmer about\": \"Castle Swimmer is a fantasy webtoon about Kappa, a boy who is destined to be the Beacon that fulfills prophecies for underwater kingdoms. It follows his adventures as he meets Siren, a prince from another kingdom.\",\n",
    "    \"who are the main characters\": \"The main characters are Kappa, the Beacon, and Siren, the prince of the shark kingdom.\",\n",
    "    \"what happens in chapters 83 to 89\": \"In chapters 83-89, new prophecies are unveiled, and Kappa continues to grapple with his role as the Beacon. Siren faces difficult choices as his feelings for Kappa deepen, and the tension between duty and love becomes more intense.\",\n",
    "    \"what is kappa\": \"Kappa is the main character of Castle Swimmer. He is the Beacon, destined to fulfill various prophecies, but he struggles with the burden of his fate.\",\n",
    "    \"who is siren\": \"Siren is the prince of the shark kingdom. He becomes close to Kappa, and their relationship is central to the story, especially as Siren questions his duty and his feelings for Kappa.\"\n",
    "}\n",
    "\n",
    "#Function to match keywords and provide responses\n",
    "def chatbot_response(user_input):\n",
    "    # Tokenize and convert input to lowercase\n",
    "    tokens = word_tokenize(user_input.lower())\n",
    "    \n",
    "    # Check for keywords in user input and provide the corresponding response\n",
    "    if \"castle swimmer\" in tokens and \"about\" in tokens:\n",
    "        return responses[\"what is castle swimmer about\"]\n",
    "    elif \"main\" in tokens and \"characters\" in tokens:\n",
    "        return responses[\"who are the main characters\"]\n",
    "    elif \"chapters\" in tokens and any(ch in tokens for ch in [\"83\", \"89\"]):\n",
    "        return responses[\"what happens in chapters 83 to 89\"]\n",
    "    elif \"kappa\" in tokens:\n",
    "        return responses[\"what is kappa\"]\n",
    "    elif \"siren\" in tokens:\n",
    "        return responses[\"who is siren\"]\n",
    "    else:\n",
    "        return \"I'm sorry, I don't know the answer to that. Try asking about Castle Swimmer, Kappa, or Siren!\"\n",
    "\n",
    "#Run the chatbot\n",
    "print(\"Castle Swimmer Chatbot: Ask me anything about Castle Swimmer!\")\n",
    "while True:\n",
    "    user_input = input(\"You: \")\n",
    "    if user_input.lower() in [\"quit\", \"exit\"]:\n",
    "        print(\"Castle Swimmer Chatbot: Goodbye!\")\n",
    "        break\n",
    "    response = chatbot_response(user_input)\n",
    "    print(f\"Castle Swimmer Chatbot: {response}\")"
   ]
  }
 ],
 "metadata": {
  "kernelspec": {
   "display_name": "Python 3",
   "language": "python",
   "name": "python3"
  },
  "language_info": {
   "codemirror_mode": {
    "name": "ipython",
    "version": 3
   },
   "file_extension": ".py",
   "mimetype": "text/x-python",
   "name": "python",
   "nbconvert_exporter": "python",
   "pygments_lexer": "ipython3",
   "version": "3.12.2"
  }
 },
 "nbformat": 4,
 "nbformat_minor": 2
}
